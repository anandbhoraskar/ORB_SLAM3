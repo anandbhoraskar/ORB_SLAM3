{
 "cells": [
  {
   "cell_type": "code",
   "execution_count": 1,
   "metadata": {},
   "outputs": [],
   "source": [
    "from evo.tools import file_interface\n",
    "from evo.core import sync, trajectory\n",
    "import numpy as np\n",
    "import os\n",
    "from evo.core import lie_algebra as lie\n",
    "from scipy.spatial.transform import Rotation\n",
    "# from matplotlib import pyplot as plt"
   ]
  },
  {
   "cell_type": "code",
   "execution_count": 2,
   "metadata": {},
   "outputs": [],
   "source": [
    "DIR=\"/media/prakhar/BIG_BAG/Capstone/habitat/anand_dec9/\"\n",
    "traj_ref1 = file_interface.read_tum_trajectory_file(DIR+\"frl_apartment_0_1607517702/frl_apartment_0_1607517702_gt2.txt\")\n",
    "traj_ref2 = file_interface.read_tum_trajectory_file(DIR+\"frl_apartment_0_1607520043/frl_apartment_0_1607520043_gt2.txt\")\n",
    "traj_ref3 = file_interface.read_tum_trajectory_file(DIR+\"frl_apartment_1_1607520143/frl_apartment_1_1607520143_gt2.txt\")\n",
    "\n",
    "gt_start = [traj_r.timestamps[0] for traj_r in [traj_ref1, traj_ref2, traj_ref3]]"
   ]
  },
  {
   "cell_type": "code",
   "execution_count": 3,
   "metadata": {},
   "outputs": [
    {
     "data": {
      "text/plain": [
       "[1607517702.49489, 1607520043.211885, 1607520143.727371]"
      ]
     },
     "execution_count": 3,
     "metadata": {},
     "output_type": "execute_result"
    }
   ],
   "source": [
    "gt_start"
   ]
  },
  {
   "cell_type": "code",
   "execution_count": 4,
   "metadata": {},
   "outputs": [],
   "source": [
    "os3path = \"/media/prakhar/BIG_BAG/Capstone/habitat/anand_dec9/f_frl_apartment001.txt\"\n",
    "traj_est = file_interface.read_tum_trajectory_file(os3path)"
   ]
  },
  {
   "cell_type": "code",
   "execution_count": 5,
   "metadata": {},
   "outputs": [
    {
     "name": "stdout",
     "output_type": "stream",
     "text": [
      "0 1607517702.49489\n",
      "1038 2237.2170929908752\n",
      "1894 15.015568256378174\n"
     ]
    }
   ],
   "source": [
    "tss = traj_est.timestamps/1e9\n",
    "tss = np.concatenate((np.zeros((1,)), tss),axis=0)\n",
    "tdiff = tss[1:] - tss[:-1]\n",
    "\n",
    "for ind,diff in enumerate(tdiff):\n",
    "    if diff > 10:\n",
    "        print(ind, diff)"
   ]
  },
  {
   "cell_type": "code",
   "execution_count": 6,
   "metadata": {},
   "outputs": [
    {
     "data": {
      "text/plain": [
       "array([1.60751770e+18, 1.60751770e+18, 1.60751770e+18, ...,\n",
       "       1.60752025e+18, 1.60752025e+18, 1.60752025e+18])"
      ]
     },
     "execution_count": 6,
     "metadata": {},
     "output_type": "execute_result"
    }
   ],
   "source": [
    "traj_est.timestamps"
   ]
  },
  {
   "cell_type": "code",
   "execution_count": 16,
   "metadata": {},
   "outputs": [
    {
     "name": "stdout",
     "output_type": "stream",
     "text": [
      "Aligning the first trajectory, and then will just use that alignment....\n",
      "1038 poses, 24.347m path length, 103.700s duration\n",
      "1038 poses, 28.189m path length, 103.700s duration\n",
      "[[ 0.59029847  0.00127398 -0.80718405]\n",
      " [-0.00210053 -0.99999294 -0.00311442]\n",
      " [-0.80718232  0.00353396 -0.59029163]]\n",
      "[1.44994303 0.06108897 4.89637818]\n",
      "1.0\n",
      "0.04700718163086214 0.013822287764261922\n",
      "Relocalized in 0.0s, score=1.0\n",
      "856 poses, 19.277m path length, 85.500s duration\n",
      "856 poses, 23.285m path length, 85.500s duration\n",
      "[[ 0.59029847  0.00127398 -0.80718405]\n",
      " [-0.00210053 -0.99999294 -0.00311442]\n",
      " [-0.80718232  0.00353396 -0.59029163]]\n",
      "[1.44994303 0.06108897 4.89637818]\n",
      "1.0\n",
      "0.06342430827110557 0.03323643739833195\n",
      "Relocalized in 0.20000004768371582s, score=0.9801986686328038\n",
      "1033 poses, 19.188m path length, 103.200s duration\n",
      "1033 poses, 24.825m path length, 103.200s duration\n",
      "[[ 0.59029847  0.00127398 -0.80718405]\n",
      " [-0.00210053 -0.99999294 -0.00311442]\n",
      " [-0.80718232  0.00353396 -0.59029163]]\n",
      "[1.44994303 0.06108897 4.89637818]\n",
      "1.0\n",
      "0.07334714276203043 0.02975640738961943\n",
      "Relocalized in 0.20000004768371582s, score=0.9801986686328038\n"
     ]
    }
   ],
   "source": [
    "os3path = \"/media/prakhar/BIG_BAG/Capstone/habitat/anand_dec9/f_frl_apartment001.txt\"\n",
    "\n",
    "traj_est1 = file_interface.read_tum_trajectory_file_part(os3path, 0, 1038)\n",
    "traj_est1.timestamps /= 1e9\n",
    "traj_est2 = file_interface.read_tum_trajectory_file_part(os3path, 1038, 1894)\n",
    "traj_est2.timestamps /= 1e9\n",
    "traj_est3 = file_interface.read_tum_trajectory_file_part(os3path, 1894, len(tss))\n",
    "traj_est3.timestamps /= 1e9\n",
    "\n",
    "ls_traj_est = [traj_est1, traj_est2, traj_est3]\n",
    "ls_traj_ref = [traj_ref1, traj_ref2, traj_ref3]\n",
    "\n",
    "R = None\n",
    "t = None\n",
    "thresh_angle = 20.0\n",
    "thresh_dist = 0.1\n",
    "time_temp = 10\n",
    "\n",
    "for traj_est, traj_ref, gts in zip(ls_traj_est, ls_traj_ref, gt_start):\n",
    "\n",
    "    offs = -traj_est.timestamps[0] + traj_ref.timestamps[0]\n",
    "#     traj_ref.transform(lie.se3(M, np.zeros(3)))\n",
    "    traj_ref, traj_est = sync.associate_trajectories(traj_ref, traj_est, offset_2=offs)\n",
    "    if R is None and t is None:\n",
    "        traj_est, R, t, s = trajectory.align_trajectory(traj_est, traj_ref, correct_scale=False, correct_only_scale=False, return_parameters=True)\n",
    "        print(\"Aligning the first trajectory, and then will just use that alignment....\")\n",
    "    else:\n",
    "        traj_est.transform(lie.se3(R, t))\n",
    "    print(traj_ref)\n",
    "    print(traj_est)\n",
    "    print(R)\n",
    "    print(t)\n",
    "    print(s)\n",
    "    diffs = (traj_est.positions_xyz - traj_ref.positions_xyz)\n",
    "    dists = np.linalg.norm(diffs, axis=1)\n",
    "    \n",
    "    print(np.mean(dists), np.std(dists))\n",
    "    \n",
    "    ##### Find relocalization time....#####\n",
    "    tstamps = traj_ref.timestamps\n",
    "    angle_diffs = np.sum(traj_est.orientations_quat_wxyz * traj_ref.orientations_quat_wxyz, axis=1)\n",
    "    angle_diffs = 180/np.pi*np.abs(np.pi - np.arccos(2*angle_diffs**2 - 1))\n",
    "    relocalized = False\n",
    "    for dist, angle_diff, ts in zip(dists, angle_diffs, traj_est.timestamps):\n",
    "        if (dist <= thresh_dist) and (angle_diff <= thresh_angle):\n",
    "            delta = ts - gts\n",
    "            print(\"Relocalized in {}s, score={}\".format(delta, np.exp(-delta/time_temp)))    \n",
    "            relocalized = True\n",
    "            break\n",
    "        else:\n",
    "            print(\"Dists\", dist, angle_diff)\n",
    "    if not relocalized:\n",
    "        print(\"Couldn't relocalize!!!! Score=0.0\")\n",
    "#     break\n"
   ]
  },
  {
   "cell_type": "code",
   "execution_count": null,
   "metadata": {},
   "outputs": [],
   "source": []
  },
  {
   "cell_type": "code",
   "execution_count": null,
   "metadata": {},
   "outputs": [],
   "source": []
  },
  {
   "cell_type": "code",
   "execution_count": null,
   "metadata": {},
   "outputs": [],
   "source": [
    "# traj_est.orientations_quat_wxyz\n",
    "\n",
    "traj_est.transform(lie.se3(R, t))\n",
    "traj_est.orientations_quat_wxyz\n",
    "# [ 0.00510335, -0.89893001,  0.00177525,  0.43805895],\n",
    "# [ 0.00545427, -0.89899566,  0.0019189 ,  0.43791936],\n",
    "# [ 0.00553568, -0.89148172,  0.00187331,  0.45301898],"
   ]
  },
  {
   "cell_type": "code",
   "execution_count": null,
   "metadata": {},
   "outputs": [],
   "source": [
    "\n",
    "#####################################STAAAAHPPP##########################\n",
    "traj_est.timestamps[2], traj_ref.timestamps[2]"
   ]
  },
  {
   "cell_type": "code",
   "execution_count": null,
   "metadata": {},
   "outputs": [],
   "source": [
    "from evo.tools import log\n",
    "log.configure_logging()\n",
    "# interactive widgets configuration\n",
    "import ipywidgets\n",
    "\n",
    "\n",
    "from evo.tools import plot\n",
    "from evo.tools.plot import PlotMode\n",
    "from evo.core.metrics import PoseRelation, Unit\n",
    "from evo.tools.settings import SETTINGS\n",
    "\n",
    "# temporarily override some package settings\n",
    "SETTINGS.plot_figsize = [6, 6]\n",
    "SETTINGS.plot_split = True\n",
    "SETTINGS.plot_usetex = False\n",
    "\n",
    "# magic plot configuration\n",
    "import matplotlib.pyplot as plt\n",
    "%matplotlib inline\n",
    "%matplotlib notebook\n",
    "\n",
    "import evo.main_ape as main_ape\n",
    "import evo.common_ape_rpe as common\n",
    "\n",
    "# interactive widgets configuration\n",
    "import ipywidgets\n",
    "\n",
    "check_opts_ape = {\"align\": False, \"correct_scale\": False, \"show_plot\": True}\n",
    "check_boxes_ape=[ipywidgets.Checkbox(description=desc, value=val) for desc, val in check_opts_ape.items()]\n",
    "check_opts_rpe = {\"align\": False, \"correct_scale\": False, \"all_pairs\": False, \"show_plot\": True}\n",
    "check_boxes_rpe=[ipywidgets.Checkbox(description=desc, value=val) for desc, val in check_opts_rpe.items()]\n",
    "delta_input = ipywidgets.FloatText(value=1.0, description='delta', disabled=False, color='black')\n",
    "delta_unit_selector=ipywidgets.Dropdown(\n",
    "    options={u.value: u for u in Unit if u is not Unit.seconds},\n",
    "    value=Unit.frames, description='delta_unit'\n",
    ")\n",
    "plotmode_selector=ipywidgets.Dropdown(\n",
    "    options={p.value: p for p in PlotMode},\n",
    "    value=PlotMode.xy, description='plot_mode'\n",
    ")\n",
    "pose_relation_selector=ipywidgets.Dropdown(\n",
    "    options={p.value: p for p in PoseRelation},\n",
    "    value=PoseRelation.translation_part, description='pose_relation'\n",
    ")"
   ]
  },
  {
   "cell_type": "code",
   "execution_count": null,
   "metadata": {},
   "outputs": [],
   "source": [
    "\n",
    "count = 0\n",
    "results = []\n",
    "\n",
    "def callback_ape(pose_relation, align, correct_scale, plot_mode, show_plot):\n",
    "    global results, count\n",
    "    est_name=\"APE Test #{}\".format(count)\n",
    "    \n",
    "    result = main_ape.ape(traj_ref, traj_est, est_name=est_name,\n",
    "                          pose_relation=pose_relation, align=align, correct_scale=correct_scale)\n",
    "    count += 1\n",
    "    results.append(result)\n",
    "    \n",
    "    if show_plot:\n",
    "        fig = plt.figure()\n",
    "        ax = plot.prepare_axis(fig, plot_mode)\n",
    "        plot.traj(ax, plot_mode, traj_ref, style=\"--\", alpha=0.5)\n",
    "        plot.traj_colormap(\n",
    "            ax, result.trajectories[est_name], result.np_arrays[\"error_array\"], plot_mode,\n",
    "            min_map=result.stats[\"min\"], max_map=result.stats[\"max\"])\n",
    "    \n",
    "_ = ipywidgets.interact_manual(callback_ape, pose_relation=pose_relation_selector, plot_mode=plotmode_selector,\n",
    "                               **{c.description: c.value for c in check_boxes_ape})"
   ]
  },
  {
   "cell_type": "code",
   "execution_count": null,
   "metadata": {},
   "outputs": [],
   "source": [
    "len(traj_ref1.distances)"
   ]
  },
  {
   "cell_type": "code",
   "execution_count": null,
   "metadata": {},
   "outputs": [],
   "source": []
  }
 ],
 "metadata": {
  "kernelspec": {
   "display_name": "viPy3_CMU",
   "language": "python",
   "name": "vipy3_cmu"
  },
  "language_info": {
   "codemirror_mode": {
    "name": "ipython",
    "version": 3
   },
   "file_extension": ".py",
   "mimetype": "text/x-python",
   "name": "python",
   "nbconvert_exporter": "python",
   "pygments_lexer": "ipython3",
   "version": "3.6.9"
  }
 },
 "nbformat": 4,
 "nbformat_minor": 2
}
