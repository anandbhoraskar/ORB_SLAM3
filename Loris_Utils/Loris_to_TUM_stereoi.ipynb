{
 "cells": [
  {
   "cell_type": "code",
   "execution_count": 1,
   "metadata": {},
   "outputs": [],
   "source": [
    "import numpy as np\n",
    "import pandas as pd\n",
    "import os\n",
    "import sys\n",
    "import numpy as np\n",
    "import yaml\n",
    "import cv2\n",
    "from scipy.interpolate import interp1d\n",
    "from bisect import bisect"
   ]
  },
  {
   "cell_type": "code",
   "execution_count": 2,
   "metadata": {},
   "outputs": [],
   "source": [
    "sample = \"office1-1\"\n",
    "inpath = os.path.join(\"/media/prakhar/BIG_BAG/Capstone/office\", sample)\n",
    "\n",
    "f1path = os.path.join(inpath,\"fisheye1.txt\")\n",
    "f2path = os.path.join(inpath,\"fisheye2.txt\")\n",
    "\n",
    "depthpath = os.path.join(inpath,\"depth.txt\")\n",
    "gyropath = os.path.join(inpath,\"t265_gyroscope.txt\")\n",
    "accpath = os.path.join(inpath,\"t265_accelerometer.txt\")\n",
    "\n",
    "outpath = \"/media/prakhar/BIG_BAG/Capstone/Loris_stereoi/\"+sample\n",
    "#associations file\n",
    "\n",
    "sensorpath = \"/media/prakhar/BIG_BAG/Capstone/office/\"+sample+\"/sensors.yaml\"\n",
    "matpath = \"/media/prakhar/BIG_BAG/Capstone/office/\"+sample+\"/trans_matrix.yaml\"\n",
    "\n",
    "timestamp_dir = \"/home/prakhar/CMU/Capstone/code/ORB_SLAM3/Examples/Stereo-Inertial/Loris_TimeStamps/\"\n",
    "timestamp_path = os.path.join(timestamp_dir, sample+\".txt\")\n",
    "\n",
    "imu_dir = \"/home/prakhar/CMU/Capstone/code/ORB_SLAM3/Examples/Stereo-Inertial/Loris_IMU/\"\n",
    "imu_path = os.path.join(imu_dir, sample+\".txt\")\n",
    "\n",
    "if not os.path.exists(timestamp_dir):\n",
    "    os.mkdir(timestamp_dir)\n",
    "if not os.path.exists(imu_dir):\n",
    "    os.mkdir(imu_dir)"
   ]
  },
  {
   "cell_type": "code",
   "execution_count": 3,
   "metadata": {},
   "outputs": [],
   "source": [
    "sensor_data = cv2.FileStorage(sensorpath, cv2.FILE_STORAGE_READ)\n",
    "mat_data = cv2.FileStorage(matpath, cv2.FILE_STORAGE_READ)"
   ]
  },
  {
   "cell_type": "code",
   "execution_count": 4,
   "metadata": {},
   "outputs": [
    {
     "name": "stdout",
     "output_type": "stream",
     "text": [
      "(3, 4) (3, 4)\n",
      "[[ 1.01389265  0.          0.         -0.05109533]\n",
      " [ 0.          1.01744807  0.          0.2732152 ]\n",
      " [ 0.          0.          1.02856934  0.09496002]]\n",
      "[[0.9956795  0.         0.         0.00192035]\n",
      " [0.         0.99803746 0.         0.00215618]\n",
      " [0.         0.         0.99269545 0.00119974]]\n"
     ]
    }
   ],
   "source": [
    "intr_acc = sensor_data.getNode(\"t265_accelerometer\").getNode(\"imu_intrinsic\").mat().reshape(3,4)\n",
    "intr_gyro = sensor_data.getNode(\"t265_gyroscope\").getNode(\"imu_intrinsic\").mat().reshape(3,4)\n",
    "print(intr_acc.shape, intr_gyro.shape)\n",
    "print(intr_acc)\n",
    "print(intr_gyro)\n",
    "\n"
   ]
  },
  {
   "cell_type": "code",
   "execution_count": 5,
   "metadata": {},
   "outputs": [],
   "source": [
    "def parse_block(block):\n",
    "    k1 = block[0].split(\": \")[1]\n",
    "    k2 = block[1].split(\": \")[1]\n",
    "    k3 = \"\".join(block[6:13]).replace(\" \", \"\").split(\"data:\")[1].replace(\"[\",\"\").replace(\"]\",\"\").split(\",\")\n",
    "    k3 = np.array([float(l) for l in k3]).reshape((4,4))\n",
    "    return k1,k2,k3\n",
    "\n",
    "def get_trans_mats(matpath):\n",
    "    with open(matpath,\"r\") as fp:\n",
    "        data = [l[:-1] for l in fp.readlines()]\n",
    "    # print(data)\n",
    "    ls_blocks = []\n",
    "    lsl = None\n",
    "    for l in data:\n",
    "        if '   -' == l:\n",
    "            if lsl is not None:\n",
    "                ls_blocks.append(lsl)\n",
    "            lsl = []\n",
    "        else:\n",
    "            if lsl is not None:\n",
    "                lsl.append(l)\n",
    "    if lsl is not None:\n",
    "        ls_blocks.append(lsl)\n",
    "    ls_blocks = [parse_block(block) for block in ls_blocks]\n",
    "    dict_trans = dict()\n",
    "    for block in ls_blocks:\n",
    "        k1,k2,k3 = block\n",
    "        print(k1)\n",
    "        dict_trans[k1] = dict()\n",
    "    for block in ls_blocks:\n",
    "        k1,k2,k3 = block\n",
    "        dict_trans[k1][k2] = k3\n",
    "    return dict_trans"
   ]
  },
  {
   "cell_type": "code",
   "execution_count": 25,
   "metadata": {},
   "outputs": [
    {
     "name": "stdout",
     "output_type": "stream",
     "text": [
      "base_link\n",
      "base_link\n",
      "base_link\n",
      "d400_color_optical_frame\n",
      "d400_color_optical_frame\n",
      "d400_color_optical_frame\n",
      "t265_fisheye1_optical_frame\n",
      "t265_fisheye1_optical_frame\n",
      "t265_fisheye1_optical_frame\n"
     ]
    }
   ],
   "source": [
    "dict_trans = get_trans_mats(matpath)\n",
    "extr_acc = dict_trans['t265_fisheye1_optical_frame']['t265_accelerometer']\n",
    "extr_gyro = dict_trans['t265_fisheye1_optical_frame']['t265_gyroscope']\n",
    "extr_stereo = dict_trans['t265_fisheye1_optical_frame']['t265_fisheye2_optical_frame']"
   ]
  },
  {
   "cell_type": "code",
   "execution_count": 26,
   "metadata": {},
   "outputs": [
    {
     "name": "stdout",
     "output_type": "stream",
     "text": [
      "[[-9.99926331e-01  4.93412758e-03  1.10899109e-02  1.06999986e-02]\n",
      " [-4.90392248e-03 -9.99984197e-01  2.74920074e-03  7.27595761e-12]\n",
      " [ 1.11033006e-02  2.69461415e-03  9.99934726e-01 -2.91038305e-11]\n",
      " [ 0.00000000e+00  0.00000000e+00  0.00000000e+00  1.00000000e+00]]\n",
      "[[-9.99926331e-01  4.93412758e-03  1.10899109e-02  1.06999986e-02]\n",
      " [-4.90392248e-03 -9.99984197e-01  2.74920074e-03  7.27595761e-12]\n",
      " [ 1.11033006e-02  2.69461415e-03  9.99934726e-01 -2.91038305e-11]\n",
      " [ 0.00000000e+00  0.00000000e+00  0.00000000e+00  1.00000000e+00]]\n",
      "[[ 9.99971034e-01 -3.08590787e-03  6.95767878e-03  6.39765114e-02]\n",
      " [ 3.11211612e-03  9.99988092e-01 -3.75913383e-03  1.48267136e-04]\n",
      " [-6.94599558e-03  3.78067804e-03  9.99968729e-01 -3.98468372e-04]\n",
      " [ 0.00000000e+00  0.00000000e+00  0.00000000e+00  1.00000000e+00]]\n"
     ]
    }
   ],
   "source": [
    "print(extr_acc)\n",
    "print(extr_gyro)\n",
    "print(extr_stereo)\n",
    "assert np.allclose(extr_acc, extr_gyro)"
   ]
  },
  {
   "cell_type": "code",
   "execution_count": 29,
   "metadata": {},
   "outputs": [
    {
     "name": "stdout",
     "output_type": "stream",
     "text": [
      "[-0.9999263314167739, 0.00493412757806944, 0.011089910930018767, 0.0106999985874, -0.004903922475695185, -0.9999841965949376, 0.0027492007438955665, 7.27595761418e-12, 0.011103300578872334, 0.002694614150708582, 0.9999347257550535, -2.91038304567e-11, 0.0, 0.0, 0.0, 1.0]\n",
      "[0.9999710335197896, -0.003085907873266471, 0.006957678776835974, 0.0639765113592, 0.003112116118197612, 0.9999880917521713, -0.0037591338254934705, 0.000148267135955, -0.006945995582404035, 0.0037806780408845384, 0.9999687293205325, -0.000398468371714, 0.0, 0.0, 0.0, 1.0]\n"
     ]
    }
   ],
   "source": [
    "# extr_acc_inv = np.linalg.inv(extr_acc).flatten()\n",
    "# print(list(extr_acc_inv))\n",
    "# extr_stereo_inv = np.linalg.inv(extr_stereo).flatten()\n",
    "# print(list(extr_stereo_inv))\n",
    "print(list(extr_acc.flatten()))\n",
    "\n",
    "print(list(extr_stereo.flatten()))\n"
   ]
  },
  {
   "cell_type": "code",
   "execution_count": 8,
   "metadata": {},
   "outputs": [],
   "source": [
    "def get_rgb_data(rgbpath):\n",
    "    with open(rgbpath, \"r\") as fp:\n",
    "        data = fp.readlines()\n",
    "        data = [l[:-1].split(\" \") for l in data]\n",
    "        data = [[float(l[0]), l[0], l[1]] for l in data]\n",
    "    return data\n",
    "\n",
    "def get_aligned_depth_data(depthpath):\n",
    "    with open(depthpath, \"r\") as fp:\n",
    "        data = fp.readlines()\n",
    "        data = [l[:-1].split(\" \") for l in data]\n",
    "        data = [[float(l[0]), l[0], 'aligned_'+l[1]] for l in data]\n",
    "    return data\n",
    "\n",
    "def get_gyroscope_data(gyropath, intr_gyro):\n",
    "    with open(gyropath, \"r\") as fp:\n",
    "        data = fp.readlines()\n",
    "        data = [l[:-1].split(\" \") for l in data]\n",
    "    head = data[0]\n",
    "    data = data[1:]\n",
    "    data = np.array([np.array([float(k) for k in l]) for l in data])\n",
    "    datam = data[:,1:]\n",
    "    data_scaled = np.transpose(intr_gyro[:3,:3]@datam.T) - intr_gyro[:,3]\n",
    "    data[:,1:] = data_scaled\n",
    "    return head, data\n",
    "    \n",
    "def get_accelerometer_data(accpath, intr_acc):\n",
    "    with open(accpath, \"r\") as fp:\n",
    "        data = fp.readlines()\n",
    "        data = [l[:-1].split(\" \") for l in data]\n",
    "    head = data[0]\n",
    "    data = data[1:]\n",
    "    data = np.array([np.array([float(k) for k in l]) for l in data])\n",
    "    datam = data[:,1:]\n",
    "    data_scaled = np.transpose(intr_acc[:3,:3]@datam.T) - intr_acc[:,3]\n",
    "    data[:,1:] = data_scaled\n",
    "    return head, data\n"
   ]
  },
  {
   "cell_type": "code",
   "execution_count": 9,
   "metadata": {},
   "outputs": [
    {
     "name": "stdout",
     "output_type": "stream",
     "text": [
      "['#Time', 'Gx', 'Gy', 'Gz'] (2694, 4)\n",
      "['#Time', 'Ax', 'Ay', 'Az'] (1684, 4)\n"
     ]
    }
   ],
   "source": [
    "head, data_gyro = get_gyroscope_data(gyropath, intr_gyro)\n",
    "#take every alternate row of gyro data\n",
    "data_gyro = data_gyro[::2]\n",
    "print(head, data_gyro.shape)\n",
    "head, data_acc = get_accelerometer_data(accpath, intr_acc)\n",
    "print(head, data_acc.shape)"
   ]
  },
  {
   "cell_type": "code",
   "execution_count": 10,
   "metadata": {},
   "outputs": [],
   "source": [
    "ind_max = bisect(data_gyro[:,0], data_acc[-1,0])\n",
    "ind_min = bisect(data_gyro[:,0], data_acc[0,0])\n",
    "data_gyro = data_gyro[ind_min:ind_max,:]"
   ]
  },
  {
   "cell_type": "code",
   "execution_count": 11,
   "metadata": {},
   "outputs": [
    {
     "data": {
      "text/plain": [
       "99.77714721795611"
      ]
     },
     "execution_count": 11,
     "metadata": {},
     "output_type": "execute_result"
    }
   ],
   "source": [
    "100/(data_gyro[100,0] - data_gyro[0,0])"
   ]
  },
  {
   "cell_type": "code",
   "execution_count": 12,
   "metadata": {},
   "outputs": [],
   "source": [
    "#create interpolators\n",
    "acc_interpolator = interp1d(data_acc[:,0], data_acc[:,1:], axis=0)\n",
    "#interpolate at precise timesteps\n",
    "acc_interp = acc_interpolator(data_gyro[:,0])"
   ]
  },
  {
   "cell_type": "code",
   "execution_count": 13,
   "metadata": {},
   "outputs": [
    {
     "name": "stdout",
     "output_type": "stream",
     "text": [
      "Done.\n",
      "Done.\n"
     ]
    }
   ],
   "source": [
    "def write_IMU_readings(head, imu_mat, imu_path):\n",
    "    with open(imu_path, \"w\") as fp:\n",
    "        fp.write(head)\n",
    "        for idr in range(imu_mat.shape[0]):\n",
    "            reading = imu_mat[idr]\n",
    "            ts = str(int(reading[0]))\n",
    "            lsr = [str(x) for x in reading[1:]]\n",
    "            lsr = [ts] + lsr\n",
    "            line = \",\".join(lsr) + \"\\n\"\n",
    "            fp.write(line)\n",
    "    print(\"Done.\")\n",
    "\n",
    "#imu hed\n",
    "head = \"#timestamp [ns],w_RS_S_x [rad s^-1],w_RS_S_y [rad s^-1],w_RS_S_z [rad s^-1],a_RS_S_x [m s^-2],a_RS_S_y [m s^-2],a_RS_S_z [m s^-2]\\n\"\n",
    "imu_mat = np.concatenate([data_gyro, acc_interp], axis=1)\n",
    "imu_mat[:,0] *= 1e9\n",
    "\n",
    "write_IMU_readings(head, imu_mat, imu_path)\n",
    "\n",
    "imu_dir2 = os.path.join(outpath, \"mav0/imu0/\")\n",
    "\n",
    "if not os.path.exists(imu_dir2):\n",
    "    print(\"Creating dir: \"+imu_dir2)\n",
    "    os.makedirs(imu_dir2)\n",
    "\n",
    "imu_path2 = os.path.join(imu_dir2, \"data.csv\")\n",
    "write_IMU_readings(head, imu_mat, imu_path2)\n"
   ]
  },
  {
   "cell_type": "code",
   "execution_count": 14,
   "metadata": {},
   "outputs": [
    {
     "name": "stdout",
     "output_type": "stream",
     "text": [
      "[[ 1.56000008e+18 -2.10128470e-02 -1.38514508e-02  1.97280162e-03\n",
      "  -1.88323085e-03  9.69241752e+00  2.30532925e-01]\n",
      " [ 1.56000008e+18 -1.67700702e-02 -1.70410699e-02 -1.19974476e-03\n",
      "   1.02311355e-02  9.65594677e+00  4.39458360e-01]\n",
      " [ 1.56000008e+18 -1.25272925e-02 -1.91674817e-02  9.15286086e-04\n",
      "   3.23711964e-02  9.58929379e+00  5.36479906e-01]]\n"
     ]
    }
   ],
   "source": [
    "print(imu_mat[:3])"
   ]
  },
  {
   "cell_type": "code",
   "execution_count": 15,
   "metadata": {},
   "outputs": [],
   "source": [
    "data_f1 = get_rgb_data(f1path)\n",
    "data_f2 = get_rgb_data(f2path)"
   ]
  },
  {
   "cell_type": "code",
   "execution_count": 17,
   "metadata": {},
   "outputs": [],
   "source": [
    "cam_path1 = os.path.join(outpath, \"mav0/cam0/data/\")\n",
    "if not os.path.exists(cam_path1):\n",
    "    print(\"Creating dir: \"+cam_path1)\n",
    "    os.makedirs(cam_path1)\n",
    "cam_path2 = os.path.join(outpath, \"mav0/cam1/data/\")\n",
    "if not os.path.exists(cam_path2):\n",
    "    print(\"Creating dir: \"+cam_path2)\n",
    "    os.makedirs(cam_path2)"
   ]
  },
  {
   "cell_type": "code",
   "execution_count": 20,
   "metadata": {},
   "outputs": [
    {
     "name": "stdout",
     "output_type": "stream",
     "text": [
      "100 810\n",
      "200 810\n",
      "300 810\n",
      "400 810\n",
      "500 810\n",
      "600 810\n",
      "700 810\n",
      "800 810\n"
     ]
    }
   ],
   "source": [
    "with open(timestamp_path, \"w\") as fp:\n",
    "    for idx,(line1, line2) in enumerate(zip(data_f1, data_f2)):\n",
    "        assert line1[1] == line2[1], print(\"Not same!!: \", line1[1], line2[1])\n",
    "        \n",
    "        tsstr = str(int(line1[0]*1e9))\n",
    "        \n",
    "        fp.write(tsstr+\"\\n\")\n",
    "        fname = tsstr+\".png\"\n",
    "        dst1 = os.path.join(cam_path1, fname)\n",
    "        dst2 = os.path.join(cam_path2, fname)\n",
    "        \n",
    "        src1 = os.path.join(inpath, line1[2])\n",
    "        src2 = os.path.join(inpath, line2[2])\n",
    "        command1 = \"ln -sf \"+src1+\" \"+dst1\n",
    "        command2 = \"ln -sf \"+src2+\" \"+dst2\n",
    "#         print(command1)\n",
    "#         print(command2)\n",
    "#         break\n",
    "        os.system(command1)\n",
    "        os.system(command2)\n",
    "        if (idx+1)%100 == 0:\n",
    "            print(idx+1,len(data_f1))"
   ]
  },
  {
   "cell_type": "code",
   "execution_count": null,
   "metadata": {},
   "outputs": [],
   "source": [
    "\"/media/prakhar/BIG_BAG/Capstone/office/office1-1/fisheye1/1560000083.949067.png\"\n",
    "\"/media/prakhar/BIG_BAG/Capstone/office/office1-1/fisheye2/1560000083.949067.png\""
   ]
  }
 ],
 "metadata": {
  "kernelspec": {
   "display_name": "viPy3_CMU",
   "language": "python",
   "name": "vipy3_cmu"
  },
  "language_info": {
   "codemirror_mode": {
    "name": "ipython",
    "version": 3
   },
   "file_extension": ".py",
   "mimetype": "text/x-python",
   "name": "python",
   "nbconvert_exporter": "python",
   "pygments_lexer": "ipython3",
   "version": "3.6.9"
  }
 },
 "nbformat": 4,
 "nbformat_minor": 2
}
