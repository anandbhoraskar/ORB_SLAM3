{
 "cells": [
  {
   "cell_type": "code",
   "execution_count": 1,
   "metadata": {},
   "outputs": [],
   "source": [
    "import numpy as np\n",
    "import pandas as pd\n",
    "import os\n",
    "import sys"
   ]
  },
  {
   "cell_type": "code",
   "execution_count": 2,
   "metadata": {},
   "outputs": [],
   "source": [
    "scene = \"home\"\n",
    "sequence= 1\n",
    "sample = scene+\"1-\"+str(sequence)\n",
    "\n",
    "inpath = os.path.join(\"/media/prakhar/BIG_BAG/Capstone/\"+scene, sample)\n",
    "\n",
    "rgbpath = os.path.join(inpath,\"color.txt\")\n",
    "depthpath = os.path.join(inpath,\"depth.txt\")\n",
    "assoc_path = \"/home/prakhar/CMU/Capstone/code/ORB_SLAM3/Examples/RGB-D/associations/\"+sample+\".txt\"\n",
    "\n",
    "outpath = \"/media/prakhar/BIG_BAG/Capstone/Loris_RGBD/\"+sample\n",
    "#associations file\n"
   ]
  },
  {
   "cell_type": "code",
   "execution_count": 3,
   "metadata": {},
   "outputs": [],
   "source": [
    "def get_rgb_data(rgbpath):\n",
    "    with open(rgbpath, \"r\") as fp:\n",
    "        data = fp.readlines()\n",
    "        data = [l[:-1].split(\" \") for l in data]\n",
    "        data = [[float(l[0]), l[0], l[1]] for l in data]\n",
    "    return data\n",
    "\n",
    "def get_aligned_depth_data(depthpath):\n",
    "    with open(depthpath, \"r\") as fp:\n",
    "        data = fp.readlines()\n",
    "        data = [l[:-1].split(\" \") for l in data]\n",
    "        data = [[float(l[0]), l[0], 'aligned_'+l[1]] for l in data]\n",
    "    return data\n"
   ]
  },
  {
   "cell_type": "code",
   "execution_count": 4,
   "metadata": {},
   "outputs": [],
   "source": [
    "data_depth = get_aligned_depth_data(depthpath)\n",
    "data_rgb = get_rgb_data(rgbpath)"
   ]
  },
  {
   "cell_type": "code",
   "execution_count": 5,
   "metadata": {},
   "outputs": [],
   "source": [
    "def write_associations(data_rgb, data_depth, assoc_path):\n",
    "    #for each item in depth, get nearest rgb\n",
    "    ls_assoc = []\n",
    "    for dl in data_depth:\n",
    "        td = dl[0]\n",
    "        min_diff = 10000\n",
    "        rlmin = []\n",
    "        for rl in data_rgb:\n",
    "            tr = rl[0]\n",
    "            diff = abs(tr - td)\n",
    "            if diff < min_diff:\n",
    "                rlmin = rl\n",
    "                min_diff = diff\n",
    "        line_assoc = \" \".join([rlmin[1], rlmin[2], dl[1], dl[2]]) + \"\\n\"\n",
    "        ls_assoc.append(line_assoc)\n",
    "    with open(assoc_path, \"w\") as fp:\n",
    "        for line in ls_assoc:\n",
    "            fp.write(line)\n",
    "    print(\"Done.\")"
   ]
  },
  {
   "cell_type": "code",
   "execution_count": 6,
   "metadata": {},
   "outputs": [
    {
     "name": "stdout",
     "output_type": "stream",
     "text": [
      "Done.\n"
     ]
    }
   ],
   "source": [
    "write_associations(data_rgb, data_depth, assoc_path)"
   ]
  },
  {
   "cell_type": "code",
   "execution_count": 7,
   "metadata": {},
   "outputs": [
    {
     "name": "stdout",
     "output_type": "stream",
     "text": [
      "Creating dir: /media/prakhar/BIG_BAG/Capstone/Loris_RGBD/home1-1\n"
     ]
    }
   ],
   "source": [
    "if not os.path.exists(outpath):\n",
    "    print(\"Creating dir: \"+outpath)\n",
    "    os.makedirs(outpath)"
   ]
  },
  {
   "cell_type": "code",
   "execution_count": 8,
   "metadata": {},
   "outputs": [],
   "source": [
    "command = \"ln -sf \"+os.path.join(inpath, \"color\")+\" \"+os.path.join(outpath)\n",
    "command2 = \"ln -sf \"+os.path.join(inpath, \"aligned_depth\")+\" \"+os.path.join(outpath)"
   ]
  },
  {
   "cell_type": "code",
   "execution_count": 9,
   "metadata": {},
   "outputs": [
    {
     "data": {
      "text/plain": [
       "0"
      ]
     },
     "execution_count": 9,
     "metadata": {},
     "output_type": "execute_result"
    }
   ],
   "source": [
    "os.system(command)\n",
    "os.system(command2)"
   ]
  },
  {
   "cell_type": "code",
   "execution_count": null,
   "metadata": {},
   "outputs": [],
   "source": [
    "command"
   ]
  },
  {
   "cell_type": "code",
   "execution_count": null,
   "metadata": {},
   "outputs": [],
   "source": []
  }
 ],
 "metadata": {
  "kernelspec": {
   "display_name": "viPy3_CMU",
   "language": "python",
   "name": "vipy3_cmu"
  },
  "language_info": {
   "codemirror_mode": {
    "name": "ipython",
    "version": 3
   },
   "file_extension": ".py",
   "mimetype": "text/x-python",
   "name": "python",
   "nbconvert_exporter": "python",
   "pygments_lexer": "ipython3",
   "version": "3.6.9"
  }
 },
 "nbformat": 4,
 "nbformat_minor": 2
}
