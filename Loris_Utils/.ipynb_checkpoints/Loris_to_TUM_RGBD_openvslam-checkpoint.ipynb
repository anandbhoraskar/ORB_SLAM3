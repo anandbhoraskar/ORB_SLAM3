{
 "cells": [
  {
   "cell_type": "code",
   "execution_count": 1,
   "metadata": {},
   "outputs": [],
   "source": [
    "import numpy as np\n",
    "import pandas as pd\n",
    "import os\n",
    "import sys"
   ]
  },
  {
   "cell_type": "code",
   "execution_count": null,
   "metadata": {},
   "outputs": [],
   "source": [
    "scene = \"office\"\n",
    "sequences= [1]\n",
    "\n",
    "for sequence in sequences:\n",
    "\n",
    "    sample = scene+\"1-\"+str(sequence)\n",
    "\n",
    "    inpath = os.path.join(\"/media/prakhar/BIG_BAG/Capstone/\"+scene, sample)\n",
    "    print(\"Loading dataset from: \"+inpath)\n",
    "    assert os.path.exists(inpath), \"Path DNE: \"+inpath\n",
    "\n",
    "    rgbpath = os.path.join(inpath,\"color.txt\")\n",
    "    depthpath = os.path.join(inpath,\"depth.txt\")\n",
    "\n",
    "    outpath = \"/media/prakhar/BIG_BAG/Capstone/Loris_RGBD_openvslam/\"+sample\n",
    "\n",
    "    color_path = os.path.join(outpath, \"rgb.txt\")\n",
    "    depth_path = os.path.join(outpath, \"depth.txt\")\n",
    "\n",
    "    #associations file\n",
    "    if not os.path.exists(outpath):\n",
    "        print(\"Creating dir: \"+outpath)\n",
    "        os.makedirs(outpath)\n",
    "\n",
    "    command = \"ln -sf \"+os.path.join(inpath, \"color\")+\" \"+os.path.join(outpath, \"color\")\n",
    "    command2 = \"ln -sf \"+os.path.join(inpath, \"aligned_depth\")+\" \"+os.path.join(outpath, \"depth\")\n",
    "    command3 = \"cp \" + rgbpath + \" \" + color_path\n",
    "    command4 = \"cp \" + depthpath + \" \" + depth_path\n",
    "\n",
    "    os.system(command)\n",
    "    os.system(command2)\n",
    "    os.system(command3)\n",
    "    os.system(command4)"
   ]
  },
  {
   "cell_type": "code",
   "execution_count": null,
   "metadata": {},
   "outputs": [],
   "source": []
  },
  {
   "cell_type": "code",
   "execution_count": null,
   "metadata": {},
   "outputs": [],
   "source": []
  },
  {
   "cell_type": "code",
   "execution_count": null,
   "metadata": {},
   "outputs": [],
   "source": []
  },
  {
   "cell_type": "code",
   "execution_count": null,
   "metadata": {},
   "outputs": [],
   "source": [
    "command"
   ]
  },
  {
   "cell_type": "code",
   "execution_count": null,
   "metadata": {},
   "outputs": [],
   "source": []
  }
 ],
 "metadata": {
  "kernelspec": {
   "display_name": "viPy3_CMU",
   "language": "python",
   "name": "vipy3_cmu"
  },
  "language_info": {
   "codemirror_mode": {
    "name": "ipython",
    "version": 3
   },
   "file_extension": ".py",
   "mimetype": "text/x-python",
   "name": "python",
   "nbconvert_exporter": "python",
   "pygments_lexer": "ipython3",
   "version": "3.6.9"
  }
 },
 "nbformat": 4,
 "nbformat_minor": 2
}
