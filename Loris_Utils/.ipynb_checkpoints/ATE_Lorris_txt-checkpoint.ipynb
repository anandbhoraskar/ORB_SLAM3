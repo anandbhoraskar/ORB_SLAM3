{
 "cells": [
  {
   "cell_type": "code",
   "execution_count": 1,
   "metadata": {},
   "outputs": [],
   "source": [
    "import numpy as np\n",
    "import os"
   ]
  },
  {
   "cell_type": "code",
   "execution_count": 2,
   "metadata": {},
   "outputs": [],
   "source": [
    "from evo.tools import file_interface\n",
    "from evo.core import sync"
   ]
  },
  {
   "cell_type": "code",
   "execution_count": null,
   "metadata": {},
   "outputs": [],
   "source": [
    "sequence = 1\n",
    "DIR=\"/media/prakhar/BIG_BAG/Capstone/office/office1-\"+str(sequence)+\"/\"\n",
    "# DIR=\"/media/prakhar/BIG_BAG/Capstone/home/home1-\"+str(sequence)+\"/\"\n",
    "\n",
    "def write_odom_openvslam_style():\n",
    "    with open(DIR+\"odom.txt\",\"r\") as fp:\n",
    "        data = [\" \".join(l[:-1].split(\" \")[:8])+\"\\n\" for l in fp.readlines() if \"#\" not in l]\n",
    "        print(data[:5])\n",
    "        head = \"#timestamp tx ty tz qx qy qz qw\\n\"\n",
    "    with open(DIR+\"odom_pose.txt\",\"w\") as fp:\n",
    "        fp.write(head)\n",
    "        for l in data:\n",
    "            fp.write(l)\n",
    "# write_odom_openvslam_style()"
   ]
  },
  {
   "cell_type": "code",
   "execution_count": null,
   "metadata": {},
   "outputs": [],
   "source": [
    "# traj_ref = file_interface.read_tum_trajectory_file(DIR+\"groundtruth.txt\")\n",
    "traj_ref = file_interface.read_tum_trajectory_file(DIR+\"groundtruth.txt\")\n",
    "# traj_est = file_interface.read_tum_trajectory_file(DIR+\"odom_pose_aligned.txt\")\n",
    "# traj_est = file_interface.read_tum_trajectory_file(\"./openvslam/build/frame_trajectory_\"+str(sequence)+\".txt\")\n",
    "# traj_est = file_interface.read_tum_trajectory_file(\"./ORB_SLAM3/f_dataset-home1-1_fstereo.txt\")\n",
    "\n",
    "traj_est.timestamps /= 1e9\n",
    "traj_ref, traj_est = sync.associate_trajectories(traj_ref, traj_est)"
   ]
  },
  {
   "cell_type": "code",
   "execution_count": null,
   "metadata": {},
   "outputs": [],
   "source": [
    "print(traj_ref)\n",
    "print(traj_est)"
   ]
  },
  {
   "cell_type": "code",
   "execution_count": null,
   "metadata": {},
   "outputs": [],
   "source": [
    "from evo.tools import log\n",
    "log.configure_logging()\n",
    "# interactive widgets configuration\n",
    "import ipywidgets\n",
    "\n",
    "\n",
    "from evo.tools import plot\n",
    "from evo.tools.plot import PlotMode\n",
    "from evo.core.metrics import PoseRelation, Unit\n",
    "from evo.tools.settings import SETTINGS\n",
    "\n",
    "# temporarily override some package settings\n",
    "SETTINGS.plot_figsize = [6, 6]\n",
    "SETTINGS.plot_split = True\n",
    "SETTINGS.plot_usetex = False\n",
    "\n",
    "# magic plot configuration\n",
    "import matplotlib.pyplot as plt\n",
    "%matplotlib inline\n",
    "%matplotlib notebook\n",
    "\n",
    "import evo.main_ape as main_ape\n",
    "import evo.common_ape_rpe as common\n",
    "\n",
    "# interactive widgets configuration\n",
    "import ipywidgets\n",
    "\n",
    "check_opts_ape = {\"align\": False, \"correct_scale\": False, \"show_plot\": True}\n",
    "check_boxes_ape=[ipywidgets.Checkbox(description=desc, value=val) for desc, val in check_opts_ape.items()]\n",
    "check_opts_rpe = {\"align\": False, \"correct_scale\": False, \"all_pairs\": False, \"show_plot\": True}\n",
    "check_boxes_rpe=[ipywidgets.Checkbox(description=desc, value=val) for desc, val in check_opts_rpe.items()]\n",
    "delta_input = ipywidgets.FloatText(value=1.0, description='delta', disabled=False, color='black')\n",
    "delta_unit_selector=ipywidgets.Dropdown(\n",
    "    options={u.value: u for u in Unit if u is not Unit.seconds},\n",
    "    value=Unit.frames, description='delta_unit'\n",
    ")\n",
    "plotmode_selector=ipywidgets.Dropdown(\n",
    "    options={p.value: p for p in PlotMode},\n",
    "    value=PlotMode.xy, description='plot_mode'\n",
    ")\n",
    "pose_relation_selector=ipywidgets.Dropdown(\n",
    "    options={p.value: p for p in PoseRelation},\n",
    "    value=PoseRelation.translation_part, description='pose_relation'\n",
    ")"
   ]
  },
  {
   "cell_type": "code",
   "execution_count": null,
   "metadata": {},
   "outputs": [],
   "source": [
    "\n",
    "count = 0\n",
    "results = []\n",
    "\n",
    "def callback_ape(pose_relation, align, correct_scale, plot_mode, show_plot):\n",
    "    global results, count\n",
    "    est_name=\"APE Test #{}\".format(count)\n",
    "    \n",
    "    result = main_ape.ape(traj_ref, traj_est, est_name=est_name,\n",
    "                          pose_relation=pose_relation, align=align, correct_scale=correct_scale)\n",
    "    count += 1\n",
    "    results.append(result)\n",
    "    \n",
    "    if show_plot:\n",
    "        fig = plt.figure()\n",
    "        ax = plot.prepare_axis(fig, plot_mode)\n",
    "        plot.traj(ax, plot_mode, traj_ref, style=\"--\", alpha=0.5)\n",
    "        plot.traj_colormap(\n",
    "            ax, result.trajectories[est_name], result.np_arrays[\"error_array\"], plot_mode,\n",
    "            min_map=result.stats[\"min\"], max_map=result.stats[\"max\"])\n",
    "    \n",
    "_ = ipywidgets.interact_manual(callback_ape, pose_relation=pose_relation_selector, plot_mode=plotmode_selector,\n",
    "                               **{c.description: c.value for c in check_boxes_ape})"
   ]
  },
  {
   "cell_type": "code",
   "execution_count": null,
   "metadata": {},
   "outputs": [],
   "source": [
    "#camera1->odom\n",
    "p1oc = np.array([[-0.247040376, -0.969005183, 0, 3.03320656],\n",
    "[0.969005183, -0.247040376, 0, -3.94775371],\n",
    "[0, 0, 1, 0],\n",
    "[0, 0, 0, 1]])\n",
    "p1oc"
   ]
  },
  {
   "cell_type": "code",
   "execution_count": null,
   "metadata": {},
   "outputs": [],
   "source": [
    "#camera2->odom\n",
    "p2oc = np.array([[-0.247040376, -0.969005183, 0, 3.03263137],\n",
    "[0.969005183, -0.247040376, 0, -3.94549762],\n",
    "[0, 0, 1, 0],\n",
    "[0, 0, 0, 1]])\n",
    "p2oc"
   ]
  },
  {
   "cell_type": "code",
   "execution_count": null,
   "metadata": {},
   "outputs": [],
   "source": [
    "#camera1->world\n",
    "p1cw = np.eye(4)\n",
    "p1cw"
   ]
  },
  {
   "cell_type": "code",
   "execution_count": null,
   "metadata": {},
   "outputs": [],
   "source": [
    "p2cw = np.array([0.99999999235280479,3.0149086186317107e-18,0,0,3.0149086186317107e-18,0.99999999235280479,0,0,0,0,1,0,-0.0023282610456023534,-2.0663050159797081e-08,0,1])\n",
    "p2cw = p2cw.reshape((4,4)).T\n",
    "p2cw"
   ]
  },
  {
   "cell_type": "code",
   "execution_count": null,
   "metadata": {},
   "outputs": [],
   "source": [
    "p2cw_rec = np.linalg.inv(p2oc)@p1oc@p1cw\n",
    "p2cw_rec"
   ]
  },
  {
   "cell_type": "code",
   "execution_count": null,
   "metadata": {},
   "outputs": [],
   "source": [
    "np.allclose(p2cw, p2cw_rec)"
   ]
  },
  {
   "cell_type": "code",
   "execution_count": null,
   "metadata": {},
   "outputs": [],
   "source": [
    "te = traj_est.positions_xyz\n",
    "tr = traj_ref.positions_xyz\n",
    "\n",
    "def traj_len(vec):\n",
    "    length = 0\n",
    "    for i in range(vec.shape[0]-1):\n",
    "        length += np.linalg.norm(vec[i] - vec[i+1])\n",
    "    return length"
   ]
  },
  {
   "cell_type": "code",
   "execution_count": null,
   "metadata": {},
   "outputs": [],
   "source": [
    "ref_len = traj_len(tr)\n",
    "print(\"Ref:\",ref_len)\n",
    "est_len = traj_len(te)\n",
    "print(\"Est:\",est_len)\n"
   ]
  },
  {
   "cell_type": "code",
   "execution_count": null,
   "metadata": {},
   "outputs": [],
   "source": [
    "# 8.05848283920702/5.270012642795236*1000 = 1529.1202100290916\n",
    "# 6.628372623665226/5.938564684760686*1000 = 1116.1573503905242"
   ]
  },
  {
   "cell_type": "code",
   "execution_count": null,
   "metadata": {},
   "outputs": [],
   "source": [
    "import cv2\n",
    "imm = cv2.imread(\"/media/prakhar/BIG_BAG/Capstone/home1-1_rgbd/aligned_depth/1560000018.205411.png\", cv2.IMREAD_UNCHANGED)"
   ]
  },
  {
   "cell_type": "code",
   "execution_count": null,
   "metadata": {},
   "outputs": [],
   "source": [
    "imm.dtype"
   ]
  },
  {
   "cell_type": "code",
   "execution_count": null,
   "metadata": {},
   "outputs": [],
   "source": [
    "import numpy as np\n",
    "np.max(imm)"
   ]
  },
  {
   "cell_type": "code",
   "execution_count": null,
   "metadata": {},
   "outputs": [],
   "source": [
    "np.min(imm)"
   ]
  },
  {
   "cell_type": "code",
   "execution_count": null,
   "metadata": {},
   "outputs": [],
   "source": [
    "from matplotlib import pyplot as plt\n",
    "plt.imshow(imm,cmap='gray')\n",
    "plt.show()"
   ]
  },
  {
   "cell_type": "code",
   "execution_count": null,
   "metadata": {},
   "outputs": [],
   "source": [
    "import yaml"
   ]
  },
  {
   "cell_type": "code",
   "execution_count": null,
   "metadata": {},
   "outputs": [],
   "source": []
  }
 ],
 "metadata": {
  "kernelspec": {
   "display_name": "viPy3_CMU",
   "language": "python",
   "name": "vipy3_cmu"
  },
  "language_info": {
   "codemirror_mode": {
    "name": "ipython",
    "version": 3
   },
   "file_extension": ".py",
   "mimetype": "text/x-python",
   "name": "python",
   "nbconvert_exporter": "python",
   "pygments_lexer": "ipython3",
   "version": "3.6.9"
  }
 },
 "nbformat": 4,
 "nbformat_minor": 2
}
